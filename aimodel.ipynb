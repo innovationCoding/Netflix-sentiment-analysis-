{
 "cells": [
  {
   "cell_type": "code",
   "execution_count": 1,
   "metadata": {},
   "outputs": [],
   "source": [
    "import sys\n",
    "dataset = sys.path.append(\"F:/aiproject/model/dataset.py\")\n",
    "trainmodel = sys.path.append('F:/aiproject/model/trainmodel.py')\n",
    "utils = sys.path.append('F:/aiproject/model/utils.py')\n"
   ]
  },
  {
   "cell_type": "code",
   "execution_count": 2,
   "metadata": {},
   "outputs": [
    {
     "name": "stdout",
     "output_type": "stream",
     "text": [
      "WARNING:tensorflow:From C:\\Users\\inhot\\AppData\\Local\\Temp\\ipykernel_31824\\1764267139.py:159: The name tf.app.run is deprecated. Please use tf.compat.v1.app.run instead.\n",
      "\n",
      "WARNING:tensorflow:From C:\\Users\\inhot\\AppData\\Roaming\\Python\\Python37\\site-packages\\tensorflow_core\\python\\autograph\\converters\\directives.py:119: The name tf.FixedLenFeature is deprecated. Please use tf.io.FixedLenFeature instead.\n",
      "\n"
     ]
    },
    {
     "name": "stderr",
     "output_type": "stream",
     "text": [
      "W0610 18:43:11.209352 32396 module_wrapper.py:139] From C:\\Users\\inhot\\AppData\\Roaming\\Python\\Python37\\site-packages\\tensorflow_core\\python\\autograph\\converters\\directives.py:119: The name tf.FixedLenFeature is deprecated. Please use tf.io.FixedLenFeature instead.\n",
      "\n"
     ]
    },
    {
     "name": "stdout",
     "output_type": "stream",
     "text": [
      "WARNING:tensorflow:From C:\\Users\\inhot\\AppData\\Roaming\\Python\\Python37\\site-packages\\tensorflow_core\\python\\autograph\\converters\\directives.py:119: The name tf.parse_single_example is deprecated. Please use tf.io.parse_single_example instead.\n",
      "\n"
     ]
    },
    {
     "name": "stderr",
     "output_type": "stream",
     "text": [
      "W0610 18:43:11.210347 32396 module_wrapper.py:139] From C:\\Users\\inhot\\AppData\\Roaming\\Python\\Python37\\site-packages\\tensorflow_core\\python\\autograph\\converters\\directives.py:119: The name tf.parse_single_example is deprecated. Please use tf.io.parse_single_example instead.\n",
      "\n"
     ]
    },
    {
     "name": "stdout",
     "output_type": "stream",
     "text": [
      "WARNING:tensorflow:From C:\\Users\\inhot\\AppData\\Local\\Temp\\ipykernel_31824\\1764267139.py:78: DatasetV1.make_initializable_iterator (from tensorflow.python.data.ops.dataset_ops) is deprecated and will be removed in a future version.\n",
      "Instructions for updating:\n",
      "Use `for ... in dataset:` to iterate over a dataset. If using `tf.estimator`, return the `Dataset` object directly from your input function. As a last resort, you can use `tf.compat.v1.data.make_initializable_iterator(dataset)`.\n"
     ]
    },
    {
     "name": "stderr",
     "output_type": "stream",
     "text": [
      "W0610 18:43:11.320793 32396 deprecation.py:323] From C:\\Users\\inhot\\AppData\\Local\\Temp\\ipykernel_31824\\1764267139.py:78: DatasetV1.make_initializable_iterator (from tensorflow.python.data.ops.dataset_ops) is deprecated and will be removed in a future version.\n",
      "Instructions for updating:\n",
      "Use `for ... in dataset:` to iterate over a dataset. If using `tf.estimator`, return the `Dataset` object directly from your input function. As a last resort, you can use `tf.compat.v1.data.make_initializable_iterator(dataset)`.\n"
     ]
    },
    {
     "name": "stdout",
     "output_type": "stream",
     "text": [
      "WARNING:tensorflow:From C:\\Users\\inhot\\AppData\\Local\\Temp\\ipykernel_31824\\1764267139.py:84: The name tf.placeholder is deprecated. Please use tf.compat.v1.placeholder instead.\n",
      "\n"
     ]
    },
    {
     "name": "stderr",
     "output_type": "stream",
     "text": [
      "W0610 18:43:11.329677 32396 module_wrapper.py:139] From C:\\Users\\inhot\\AppData\\Local\\Temp\\ipykernel_31824\\1764267139.py:84: The name tf.placeholder is deprecated. Please use tf.compat.v1.placeholder instead.\n",
      "\n"
     ]
    },
    {
     "name": "stdout",
     "output_type": "stream",
     "text": [
      "WARNING:tensorflow:From f:\\aiproject\\model\\base_model.py:112: The name tf.variable_scope is deprecated. Please use tf.compat.v1.variable_scope instead.\n",
      "\n"
     ]
    },
    {
     "name": "stderr",
     "output_type": "stream",
     "text": [
      "W0610 18:43:11.331669 32396 module_wrapper.py:139] From f:\\aiproject\\model\\base_model.py:112: The name tf.variable_scope is deprecated. Please use tf.compat.v1.variable_scope instead.\n",
      "\n"
     ]
    },
    {
     "name": "stdout",
     "output_type": "stream",
     "text": [
      "WARNING:tensorflow:From f:\\aiproject\\model\\base_model.py:32: The name tf.get_variable is deprecated. Please use tf.compat.v1.get_variable instead.\n",
      "\n"
     ]
    },
    {
     "name": "stderr",
     "output_type": "stream",
     "text": [
      "W0610 18:43:11.333664 32396 module_wrapper.py:139] From f:\\aiproject\\model\\base_model.py:32: The name tf.get_variable is deprecated. Please use tf.compat.v1.get_variable instead.\n",
      "\n"
     ]
    },
    {
     "name": "stdout",
     "output_type": "stream",
     "text": [
      "WARNING:tensorflow:From f:\\aiproject\\model\\base_model.py:43: LSTMCell.__init__ (from tensorflow.python.ops.rnn_cell_impl) is deprecated and will be removed in a future version.\n",
      "Instructions for updating:\n",
      "This class is equivalent as tf.keras.layers.LSTMCell, and will be replaced by that in Tensorflow 2.0.\n"
     ]
    },
    {
     "name": "stderr",
     "output_type": "stream",
     "text": [
      "W0610 18:43:11.346840 32396 deprecation.py:323] From f:\\aiproject\\model\\base_model.py:43: LSTMCell.__init__ (from tensorflow.python.ops.rnn_cell_impl) is deprecated and will be removed in a future version.\n",
      "Instructions for updating:\n",
      "This class is equivalent as tf.keras.layers.LSTMCell, and will be replaced by that in Tensorflow 2.0.\n"
     ]
    },
    {
     "name": "stdout",
     "output_type": "stream",
     "text": [
      "WARNING:tensorflow:From f:\\aiproject\\model\\base_model.py:45: The name tf.nn.rnn_cell.DropoutWrapper is deprecated. Please use tf.compat.v1.nn.rnn_cell.DropoutWrapper instead.\n",
      "\n"
     ]
    },
    {
     "name": "stderr",
     "output_type": "stream",
     "text": [
      "W0610 18:43:11.348833 32396 module_wrapper.py:139] From f:\\aiproject\\model\\base_model.py:45: The name tf.nn.rnn_cell.DropoutWrapper is deprecated. Please use tf.compat.v1.nn.rnn_cell.DropoutWrapper instead.\n",
      "\n"
     ]
    },
    {
     "name": "stdout",
     "output_type": "stream",
     "text": [
      "WARNING:tensorflow:From f:\\aiproject\\model\\base_model.py:66: dynamic_rnn (from tensorflow.python.ops.rnn) is deprecated and will be removed in a future version.\n",
      "Instructions for updating:\n",
      "Please use `keras.layers.RNN(cell)`, which is equivalent to this API\n"
     ]
    },
    {
     "name": "stderr",
     "output_type": "stream",
     "text": [
      "W0610 18:43:11.352822 32396 deprecation.py:323] From f:\\aiproject\\model\\base_model.py:66: dynamic_rnn (from tensorflow.python.ops.rnn) is deprecated and will be removed in a future version.\n",
      "Instructions for updating:\n",
      "Please use `keras.layers.RNN(cell)`, which is equivalent to this API\n"
     ]
    },
    {
     "name": "stdout",
     "output_type": "stream",
     "text": [
      "WARNING:tensorflow:From C:\\Users\\inhot\\AppData\\Roaming\\Python\\Python37\\site-packages\\tensorflow_core\\python\\ops\\rnn_cell_impl.py:958: Layer.add_variable (from tensorflow.python.keras.engine.base_layer) is deprecated and will be removed in a future version.\n",
      "Instructions for updating:\n",
      "Please use `layer.add_weight` method instead.\n"
     ]
    },
    {
     "name": "stderr",
     "output_type": "stream",
     "text": [
      "W0610 18:43:11.420221 32396 deprecation.py:323] From C:\\Users\\inhot\\AppData\\Roaming\\Python\\Python37\\site-packages\\tensorflow_core\\python\\ops\\rnn_cell_impl.py:958: Layer.add_variable (from tensorflow.python.keras.engine.base_layer) is deprecated and will be removed in a future version.\n",
      "Instructions for updating:\n",
      "Please use `layer.add_weight` method instead.\n"
     ]
    },
    {
     "name": "stdout",
     "output_type": "stream",
     "text": [
      "WARNING:tensorflow:From C:\\Users\\inhot\\AppData\\Roaming\\Python\\Python37\\site-packages\\tensorflow_core\\python\\ops\\rnn_cell_impl.py:962: calling Zeros.__init__ (from tensorflow.python.ops.init_ops) with dtype is deprecated and will be removed in a future version.\n",
      "Instructions for updating:\n",
      "Call initializer instance with the dtype argument instead of passing it to the constructor\n"
     ]
    },
    {
     "name": "stderr",
     "output_type": "stream",
     "text": [
      "W0610 18:43:11.428194 32396 deprecation.py:506] From C:\\Users\\inhot\\AppData\\Roaming\\Python\\Python37\\site-packages\\tensorflow_core\\python\\ops\\rnn_cell_impl.py:962: calling Zeros.__init__ (from tensorflow.python.ops.init_ops) with dtype is deprecated and will be removed in a future version.\n",
      "Instructions for updating:\n",
      "Call initializer instance with the dtype argument instead of passing it to the constructor\n"
     ]
    },
    {
     "name": "stdout",
     "output_type": "stream",
     "text": [
      "WARNING:tensorflow:From C:\\Users\\inhot\\AppData\\Roaming\\Python\\Python37\\site-packages\\tensorflow_core\\python\\ops\\rnn.py:244: where (from tensorflow.python.ops.array_ops) is deprecated and will be removed in a future version.\n",
      "Instructions for updating:\n",
      "Use tf.where in 2.0, which has the same broadcast rule as np.where\n"
     ]
    },
    {
     "name": "stderr",
     "output_type": "stream",
     "text": [
      "W0610 18:43:11.446189 32396 deprecation.py:323] From C:\\Users\\inhot\\AppData\\Roaming\\Python\\Python37\\site-packages\\tensorflow_core\\python\\ops\\rnn.py:244: where (from tensorflow.python.ops.array_ops) is deprecated and will be removed in a future version.\n",
      "Instructions for updating:\n",
      "Use tf.where in 2.0, which has the same broadcast rule as np.where\n"
     ]
    },
    {
     "name": "stdout",
     "output_type": "stream",
     "text": [
      "WARNING:tensorflow:From f:\\aiproject\\model\\trainmodel.py:34: The name tf.trainable_variables is deprecated. Please use tf.compat.v1.trainable_variables instead.\n",
      "\n"
     ]
    },
    {
     "name": "stderr",
     "output_type": "stream",
     "text": [
      "W0610 18:43:11.490363 32396 module_wrapper.py:139] From f:\\aiproject\\model\\trainmodel.py:34: The name tf.trainable_variables is deprecated. Please use tf.compat.v1.trainable_variables instead.\n",
      "\n"
     ]
    },
    {
     "name": "stdout",
     "output_type": "stream",
     "text": [
      "WARNING:tensorflow:From f:\\aiproject\\model\\trainmodel.py:36: The name tf.train.AdamOptimizer is deprecated. Please use tf.compat.v1.train.AdamOptimizer instead.\n",
      "\n"
     ]
    },
    {
     "name": "stderr",
     "output_type": "stream",
     "text": [
      "W0610 18:43:11.680784 32396 module_wrapper.py:139] From f:\\aiproject\\model\\trainmodel.py:36: The name tf.train.AdamOptimizer is deprecated. Please use tf.compat.v1.train.AdamOptimizer instead.\n",
      "\n"
     ]
    },
    {
     "name": "stdout",
     "output_type": "stream",
     "text": [
      "WARNING:tensorflow:From C:\\Users\\inhot\\AppData\\Local\\Temp\\ipykernel_31824\\1764267139.py:95: The name tf.train.Saver is deprecated. Please use tf.compat.v1.train.Saver instead.\n",
      "\n"
     ]
    },
    {
     "name": "stderr",
     "output_type": "stream",
     "text": [
      "W0610 18:43:11.800546 32396 module_wrapper.py:139] From C:\\Users\\inhot\\AppData\\Local\\Temp\\ipykernel_31824\\1764267139.py:95: The name tf.train.Saver is deprecated. Please use tf.compat.v1.train.Saver instead.\n",
      "\n"
     ]
    },
    {
     "name": "stdout",
     "output_type": "stream",
     "text": [
      "WARNING:tensorflow:From C:\\Users\\inhot\\AppData\\Local\\Temp\\ipykernel_31824\\1764267139.py:97: The name tf.Session is deprecated. Please use tf.compat.v1.Session instead.\n",
      "\n"
     ]
    },
    {
     "name": "stderr",
     "output_type": "stream",
     "text": [
      "W0610 18:43:11.811474 32396 module_wrapper.py:139] From C:\\Users\\inhot\\AppData\\Local\\Temp\\ipykernel_31824\\1764267139.py:97: The name tf.Session is deprecated. Please use tf.compat.v1.Session instead.\n",
      "\n"
     ]
    },
    {
     "name": "stdout",
     "output_type": "stream",
     "text": [
      "WARNING:tensorflow:From C:\\Users\\inhot\\AppData\\Local\\Temp\\ipykernel_31824\\1764267139.py:99: The name tf.global_variables_initializer is deprecated. Please use tf.compat.v1.global_variables_initializer instead.\n",
      "\n"
     ]
    },
    {
     "name": "stderr",
     "output_type": "stream",
     "text": [
      "W0610 18:43:11.830553 32396 module_wrapper.py:139] From C:\\Users\\inhot\\AppData\\Local\\Temp\\ipykernel_31824\\1764267139.py:99: The name tf.global_variables_initializer is deprecated. Please use tf.compat.v1.global_variables_initializer instead.\n",
      "\n"
     ]
    },
    {
     "name": "stdout",
     "output_type": "stream",
     "text": [
      "epoch_nr: 0, train_loss: 0.433, train_acc: 0.791, test_acc: 0.879\n",
      "epoch_nr: 1, train_loss: 0.342, train_acc: 0.837, test_acc: 0.857\n",
      "epoch_nr: 2, train_loss: 0.293, train_acc: 0.856, test_acc: 0.859\n",
      "epoch_nr: 3, train_loss: 0.272, train_acc: 0.866, test_acc: 0.862\n",
      "epoch_nr: 4, train_loss: 0.249, train_acc: 0.873, test_acc: 0.841\n",
      "epoch_nr: 5, train_loss: 0.224, train_acc: 0.882, test_acc: 0.857\n",
      "epoch_nr: 6, train_loss: 0.215, train_acc: 0.886, test_acc: 0.860\n",
      "epoch_nr: 7, train_loss: 0.206, train_acc: 0.887, test_acc: 0.854\n",
      "epoch_nr: 8, train_loss: 0.196, train_acc: 0.891, test_acc: 0.849\n",
      "epoch_nr: 9, train_loss: 0.193, train_acc: 0.892, test_acc: 0.848\n",
      "epoch_nr: 10, train_loss: 0.185, train_acc: 0.895, test_acc: 0.844\n",
      "epoch_nr: 11, train_loss: 0.190, train_acc: 0.893, test_acc: 0.850\n",
      "epoch_nr: 12, train_loss: 0.183, train_acc: 0.897, test_acc: 0.840\n",
      "epoch_nr: 13, train_loss: 0.196, train_acc: 0.890, test_acc: 0.837\n",
      "epoch_nr: 14, train_loss: 0.184, train_acc: 0.897, test_acc: 0.845\n",
      "epoch_nr: 15, train_loss: 0.181, train_acc: 0.897, test_acc: 0.840\n",
      "epoch_nr: 16, train_loss: 0.190, train_acc: 0.896, test_acc: 0.842\n",
      "epoch_nr: 17, train_loss: 0.184, train_acc: 0.896, test_acc: 0.835\n",
      "epoch_nr: 18, train_loss: 0.180, train_acc: 0.897, test_acc: 0.846\n",
      "epoch_nr: 19, train_loss: 0.185, train_acc: 0.897, test_acc: 0.837\n",
      "epoch_nr: 20, train_loss: 0.179, train_acc: 0.900, test_acc: 0.838\n",
      "epoch_nr: 21, train_loss: 0.174, train_acc: 0.901, test_acc: 0.834\n",
      "epoch_nr: 22, train_loss: 0.172, train_acc: 0.902, test_acc: 0.848\n",
      "epoch_nr: 23, train_loss: 0.180, train_acc: 0.900, test_acc: 0.842\n",
      "epoch_nr: 24, train_loss: 0.178, train_acc: 0.902, test_acc: 0.846\n",
      "epoch_nr: 25, train_loss: 0.180, train_acc: 0.900, test_acc: 0.843\n",
      "epoch_nr: 26, train_loss: 0.174, train_acc: 0.900, test_acc: 0.835\n",
      "epoch_nr: 27, train_loss: 0.182, train_acc: 0.896, test_acc: 0.851\n",
      "epoch_nr: 28, train_loss: 0.173, train_acc: 0.900, test_acc: 0.853\n",
      "epoch_nr: 29, train_loss: 0.182, train_acc: 0.894, test_acc: 0.841\n",
      "epoch_nr: 30, train_loss: 0.180, train_acc: 0.897, test_acc: 0.841\n",
      "epoch_nr: 31, train_loss: 0.185, train_acc: 0.898, test_acc: 0.843\n",
      "epoch_nr: 32, train_loss: 0.180, train_acc: 0.896, test_acc: 0.848\n",
      "epoch_nr: 33, train_loss: 0.166, train_acc: 0.903, test_acc: 0.831\n",
      "epoch_nr: 34, train_loss: 0.176, train_acc: 0.900, test_acc: 0.842\n",
      "epoch_nr: 35, train_loss: 0.172, train_acc: 0.901, test_acc: 0.850\n",
      "epoch_nr: 36, train_loss: 0.178, train_acc: 0.901, test_acc: 0.842\n",
      "epoch_nr: 37, train_loss: 0.175, train_acc: 0.900, test_acc: 0.839\n",
      "epoch_nr: 38, train_loss: 0.181, train_acc: 0.900, test_acc: 0.846\n",
      "epoch_nr: 39, train_loss: 0.175, train_acc: 0.903, test_acc: 0.838\n",
      "epoch_nr: 40, train_loss: 0.179, train_acc: 0.902, test_acc: 0.837\n",
      "epoch_nr: 41, train_loss: 0.172, train_acc: 0.900, test_acc: 0.831\n",
      "epoch_nr: 42, train_loss: 0.176, train_acc: 0.899, test_acc: 0.844\n",
      "epoch_nr: 43, train_loss: 0.182, train_acc: 0.899, test_acc: 0.840\n",
      "epoch_nr: 44, train_loss: 0.172, train_acc: 0.904, test_acc: 0.836\n",
      "epoch_nr: 45, train_loss: 0.179, train_acc: 0.898, test_acc: 0.832\n",
      "epoch_nr: 46, train_loss: 0.180, train_acc: 0.898, test_acc: 0.820\n",
      "epoch_nr: 47, train_loss: 0.183, train_acc: 0.899, test_acc: 0.847\n",
      "epoch_nr: 48, train_loss: 0.174, train_acc: 0.902, test_acc: 0.842\n",
      "epoch_nr: 49, train_loss: 0.175, train_acc: 0.899, test_acc: 0.828\n",
      "epoch_nr: 50, train_loss: 0.182, train_acc: 0.897, test_acc: 0.835\n",
      "epoch_nr: 51, train_loss: 0.182, train_acc: 0.898, test_acc: 0.837\n",
      "epoch_nr: 52, train_loss: 0.180, train_acc: 0.897, test_acc: 0.845\n",
      "epoch_nr: 53, train_loss: 0.183, train_acc: 0.898, test_acc: 0.835\n",
      "epoch_nr: 54, train_loss: 0.184, train_acc: 0.894, test_acc: 0.836\n",
      "epoch_nr: 55, train_loss: 0.184, train_acc: 0.896, test_acc: 0.832\n",
      "epoch_nr: 56, train_loss: 0.185, train_acc: 0.897, test_acc: 0.833\n",
      "epoch_nr: 57, train_loss: 0.185, train_acc: 0.902, test_acc: 0.837\n",
      "epoch_nr: 58, train_loss: 0.177, train_acc: 0.899, test_acc: 0.835\n",
      "epoch_nr: 59, train_loss: 0.177, train_acc: 0.898, test_acc: 0.842\n",
      "epoch_nr: 60, train_loss: 0.185, train_acc: 0.897, test_acc: 0.839\n",
      "epoch_nr: 61, train_loss: 0.187, train_acc: 0.897, test_acc: 0.846\n",
      "epoch_nr: 62, train_loss: 0.183, train_acc: 0.896, test_acc: 0.841\n",
      "epoch_nr: 63, train_loss: 0.178, train_acc: 0.901, test_acc: 0.836\n",
      "epoch_nr: 64, train_loss: 0.178, train_acc: 0.899, test_acc: 0.829\n",
      "epoch_nr: 65, train_loss: 0.174, train_acc: 0.901, test_acc: 0.834\n",
      "epoch_nr: 66, train_loss: 0.183, train_acc: 0.896, test_acc: 0.836\n",
      "epoch_nr: 67, train_loss: 0.187, train_acc: 0.896, test_acc: 0.830\n",
      "epoch_nr: 68, train_loss: 0.173, train_acc: 0.900, test_acc: 0.834\n",
      "epoch_nr: 69, train_loss: 0.175, train_acc: 0.899, test_acc: 0.837\n"
     ]
    },
    {
     "data": {
      "image/png": "[encoded data removed]",
      "text/plain": [
       "<Figure size 640x480 with 1 Axes>"
      ]
     },
     "metadata": {},
     "output_type": "display_data"
    },
    {
     "ename": "SystemExit",
     "evalue": "",
     "output_type": "error",
     "traceback": [
      "An exception has occurred, use %tb to see the full traceback.\n",
      "\u001b[1;31mSystemExit\u001b[0m\n"
     ]
    },
    {
     "name": "stderr",
     "output_type": "stream",
     "text": [
      "C:\\Users\\inhot\\AppData\\Roaming\\Python\\Python37\\site-packages\\IPython\\core\\interactiveshell.py:3561: UserWarning: To exit: use 'exit', 'quit', or Ctrl-D.\n",
      "  warn(\"To exit: use 'exit', 'quit', or Ctrl-D.\", stacklevel=1)\n"
     ]
    }
   ],
   "source": [
    "\n",
    "import json\n",
    "import os\n",
    "import tensorflow as tf\n",
    "\n",
    "from dataset import get_training_data, get_test_data\n",
    "from trainmodel import TrainModel\n",
    "from utils import show_sample\n",
    "import matplotlib.pyplot as plt\n",
    "\n",
    "tf.app.flags.DEFINE_string('train_path', os.path.abspath(os.path.join(os.path.dirname( \"__file__\" ), '..', 'F:/aiproject/model/tf/tf_records/training_file_0.tfrecord')),\n",
    "                           'Path for the training data.')\n",
    "tf.app.flags.DEFINE_string('test_path', os.path.abspath(os.path.join(os.path.dirname(\"__file__\"), '..', 'F:/aiproject/model/tf/tf_records/test_file_0.tfrecord')),\n",
    "                           'Path for the test data.')\n",
    "\n",
    "tf.app.flags.DEFINE_string('word2idx', os.path.abspath(os.path.join(os.path.dirname(\"__file__\"), '..', 'F:/aiproject/model/word2idx.txt')),\n",
    "                           'Path for the word2idx dictionary.')\n",
    "\n",
    "tf.app.flags.DEFINE_string('checkpoints_path', os.path.abspath(os.path.join(os.path.dirname( \"__file__ \"), '..', 'F:/aiproject/model/model.ckpt')),\n",
    "                           'Path for the test data.')\n",
    "\n",
    "tf.app.flags.DEFINE_integer('num_epoch', 70,\n",
    "                            'Number of training epoch.'\n",
    "                            )\n",
    "tf.app.flags.DEFINE_integer('batch_size', 8,\n",
    "                            'Batch size of the training set.'\n",
    "                            )\n",
    "tf.app.flags.DEFINE_float('learning_rate', 0.005,\n",
    "                          'Learning rate of optimizer.'\n",
    "                          )\n",
    "\n",
    "tf.app.flags.DEFINE_string('architecture', 'unidirectional',\n",
    "                          'Type of LSTM-Architecture, choose between \"unidirectional\" or \"bidirectional\"'\n",
    "                          )\n",
    "\n",
    "tf.app.flags.DEFINE_integer('lstm_units', 100,\n",
    "                            'Number of the LSTM hidden units.'\n",
    "                            )\n",
    "\n",
    "tf.flags.DEFINE_float('dropout_keep_prob', 0.2,\n",
    "                      '0<dropout_keep_prob<=1. Dropout keep-probability')\n",
    "\n",
    "tf.app.flags.DEFINE_integer('embedding_size', 100,\n",
    "                            'Dimension of the embedding vector for the vocabulary.'\n",
    "                            )\n",
    "tf.app.flags.DEFINE_integer('num_classes', 2,\n",
    "                            'Number of output classes.'\n",
    "                            )\n",
    "\n",
    "tf.app.flags.DEFINE_integer('n_train_samples', 8529,\n",
    "                            'Number of all training sentences.'\n",
    "                            )\n",
    "\n",
    "tf.app.flags.DEFINE_integer('n_test_samples', 2133,\n",
    "                            'Number of all training sentences.'\n",
    "                            )\n",
    "tf.app.flags.DEFINE_float('required_acc_checkpoint', 0.7,\n",
    "                          'The accuracy on the test set that must be achieved, before any checkpoints are saved.'\n",
    "                          )\n",
    "\n",
    "\n",
    "FLAGS = tf.app.flags.FLAGS\n",
    "\n",
    "\n",
    "def main(_):\n",
    "\n",
    "    with open(FLAGS.word2idx) as json_file:\n",
    "        word2idx = json.load(json_file)\n",
    "\n",
    "    training_graph=tf.Graph()\n",
    "\n",
    "    with training_graph.as_default():\n",
    "\n",
    "        train_model=TrainModel(FLAGS, len(word2idx))\n",
    "\n",
    "        training_dataset=get_training_data(FLAGS)\n",
    "        test_dataset=get_test_data(FLAGS)\n",
    "\n",
    "        iterator_train = training_dataset.make_initializable_iterator()\n",
    "        iterator_test=test_dataset.make_initializable_iterator()\n",
    "\n",
    "        x_train, y_train, _, seq_length_train = iterator_train.get_next()\n",
    "        x_test, y_test, _, seq_length_test =iterator_test.get_next()\n",
    "\n",
    "        dropout_keep_prob = tf.placeholder(tf.float32, name='dropout_keep_prob')\n",
    "\n",
    "        logits, probs=train_model.compute_prediction(x_train, seq_length_train, dropout_keep_prob, reuse_scope=False)\n",
    "        loss=train_model.compute_loss(logits, y_train)\n",
    "        train_op=train_model.train(loss)\n",
    "        accuracy_train = train_model.compute_accuracy(probs, y_train)\n",
    "\n",
    "        x=tf.identity(x_test)\n",
    "        logits_test, probs_test=train_model.compute_prediction(x_test, seq_length_test, dropout_keep_prob, reuse_scope=True)\n",
    "        accuracy_test = train_model.compute_accuracy(probs_test, y_test)\n",
    "\n",
    "        saver=tf.train.Saver()\n",
    "\n",
    "    with tf.Session(graph=training_graph) as sess:\n",
    "\n",
    "        sess.run(tf.global_variables_initializer())\n",
    "\n",
    "        n_batches=int(FLAGS.n_train_samples/FLAGS.batch_size)\n",
    "        train_accuracy_list = []\n",
    "        test_accuracy_list = []\n",
    "\n",
    "        for epoch in range(FLAGS.num_epoch):\n",
    "\n",
    "            sess.run(iterator_train.initializer)\n",
    "            sess.run(iterator_test.initializer)\n",
    "\n",
    "            traininig_loss=0\n",
    "            training_acc=0\n",
    "\n",
    "\n",
    "            feed_dict={dropout_keep_prob:0.5}\n",
    "\n",
    "\n",
    "            for n_batch in range(0, n_batches):\n",
    "\n",
    "                _, l, acc, logits_, probs_=sess.run((train_op, loss, accuracy_train, logits, probs), feed_dict)\n",
    "\n",
    "                traininig_loss+=l\n",
    "                training_acc+=acc\n",
    "\n",
    "\n",
    "            feed_dict={dropout_keep_prob:1.0}\n",
    "\n",
    "            acc_avg_test=sess.run(accuracy_test, feed_dict)\n",
    "\n",
    "            loss_avg=traininig_loss/n_batches\n",
    "            acc_avg_train=training_acc/n_batches\n",
    "            train_accuracy_list.append(acc_avg_train)\n",
    "            test_accuracy_list.append(acc_avg_test)\n",
    "            print('epoch_nr: %i, train_loss: %.3f, train_acc: %.3f, test_acc: %.3f'%(epoch, loss_avg, acc_avg_train, acc_avg_test))\n",
    "\n",
    "            traininig_loss=0\n",
    "            training_acc=0\n",
    "\n",
    "            #show_sample(FLAGS, sess, logits_test, probs_test, dropout_keep_prob, x)\n",
    "\n",
    "            if FLAGS.required_acc_checkpoint>0.70:\n",
    "                saver.save(sess, FLAGS.checkpoints_path)\n",
    "            \n",
    "        min_epochs = min(len(train_accuracy_list), len(test_accuracy_list))\n",
    "        train_accuracy_list = train_accuracy_list[:min_epochs]\n",
    "        test_accuracy_list = test_accuracy_list[:min_epochs]\n",
    "\n",
    "        plt.plot(range(min_epochs), train_accuracy_list, label='Training Accuracy')\n",
    "        plt.plot(range(min_epochs), test_accuracy_list, label='Testing Accuracy')\n",
    "        plt.xlabel('Epoch')\n",
    "        plt.ylabel('Accuracy')\n",
    "        plt.legend()\n",
    "        plt.show()\n",
    "           \n",
    "\n",
    "\n",
    "\n",
    "if __name__ == \"__main__\":\n",
    "\n",
    "    tf.app.run()\n",
    "\n",
    "\n"
   ]
  },
  {
   "cell_type": "code",
   "execution_count": 3,
   "metadata": {},
   "outputs": [
    {
     "ename": "NameError",
     "evalue": "name 'loss_avg' is not defined",
     "output_type": "error",
     "traceback": [
      "\u001b[1;31m---------------------------------------------------------------------------\u001b[0m",
      "\u001b[1;31mNameError\u001b[0m                                 Traceback (most recent call last)",
      "\u001b[1;32mC:\\Users\\inhot\\AppData\\Local\\Temp\\ipykernel_20780\\921976713.py\u001b[0m in \u001b[0;36m<module>\u001b[1;34m\u001b[0m\n\u001b[0;32m      4\u001b[0m \u001b[1;32mwith\u001b[0m \u001b[0mopen\u001b[0m\u001b[1;33m(\u001b[0m\u001b[0mresult_output_path\u001b[0m\u001b[1;33m,\u001b[0m \u001b[1;34m'w'\u001b[0m\u001b[1;33m)\u001b[0m \u001b[1;32mas\u001b[0m \u001b[0mf\u001b[0m\u001b[1;33m:\u001b[0m\u001b[1;33m\u001b[0m\u001b[0m\n\u001b[0;32m      5\u001b[0m     \u001b[1;32mfor\u001b[0m \u001b[0mepoch\u001b[0m \u001b[1;32min\u001b[0m \u001b[0mrange\u001b[0m\u001b[1;33m(\u001b[0m\u001b[0mFLAGS\u001b[0m\u001b[1;33m.\u001b[0m\u001b[0mnum_epoch\u001b[0m\u001b[1;33m)\u001b[0m\u001b[1;33m:\u001b[0m\u001b[1;33m\u001b[0m\u001b[0m\n\u001b[1;32m----> 6\u001b[1;33m         \u001b[0mf\u001b[0m\u001b[1;33m.\u001b[0m\u001b[0mwrite\u001b[0m\u001b[1;33m(\u001b[0m\u001b[1;34m'epoch_nr: {}, train_loss: {:.3f}, train_acc: {:.3f}, test_acc: {:.3f}\\n'\u001b[0m\u001b[1;33m.\u001b[0m\u001b[0mformat\u001b[0m\u001b[1;33m(\u001b[0m\u001b[0mepoch\u001b[0m\u001b[1;33m,\u001b[0m \u001b[0mloss_avg\u001b[0m\u001b[1;33m,\u001b[0m \u001b[0macc_avg_train\u001b[0m\u001b[1;33m,\u001b[0m \u001b[0macc_avg_test\u001b[0m\u001b[1;33m)\u001b[0m\u001b[1;33m)\u001b[0m\u001b[1;33m\u001b[0m\u001b[0m\n\u001b[0m\u001b[0;32m      7\u001b[0m \u001b[1;33m\u001b[0m\u001b[0m\n\u001b[0;32m      8\u001b[0m \u001b[0mprint\u001b[0m\u001b[1;33m(\u001b[0m\u001b[1;34m\"결과가 '{}' 파일에 저장되었습니다.\"\u001b[0m\u001b[1;33m.\u001b[0m\u001b[0mformat\u001b[0m\u001b[1;33m(\u001b[0m\u001b[0mresult_output_path\u001b[0m\u001b[1;33m)\u001b[0m\u001b[1;33m)\u001b[0m\u001b[1;33m\u001b[0m\u001b[0m\n",
      "\u001b[1;31mNameError\u001b[0m: name 'loss_avg' is not defined"
     ]
    }
   ],
   "source": [
    "\n"
   ]
  }
 ],
 "metadata": {
  "kernelspec": {
   "display_name": "Python 3",
   "language": "python",
   "name": "python3"
  },
  "language_info": {
   "codemirror_mode": {
    "name": "ipython",
    "version": 3
   },
   "file_extension": ".py",
   "mimetype": "text/x-python",
   "name": "python",
   "nbconvert_exporter": "python",
   "pygments_lexer": "ipython3",
   "version": "3.7.0"
  }
 },
 "nbformat": 4,
 "nbformat_minor": 2
}
